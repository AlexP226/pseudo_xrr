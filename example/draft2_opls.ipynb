{
 "cells": [
  {
   "cell_type": "code",
   "execution_count": 51,
   "id": "d166d612",
   "metadata": {},
   "outputs": [],
   "source": [
    "# NEED TO HAVE DATA FILES DOWNLOADED AND UPDATE PATHS\n",
    "import math\n",
    "import numpy as np\n",
    "from numpy import trapz\n",
    "import pandas as pd\n",
    "import matplotlib.pyplot as plt\n",
    "from pseudo_xrr.gixos import *\n",
    "from pseudo_xrr.data_io import *"
   ]
  },
  {
   "cell_type": "code",
   "execution_count": 42,
   "id": "74527433",
   "metadata": {},
   "outputs": [
    {
     "name": "stdout",
     "output_type": "stream",
     "text": [
      "['__builtins__', '__cached__', '__doc__', '__file__', '__loader__', '__name__', '__package__', '__spec__', '__warningregistry__', 'load_GIXOS_data', 'load_data', 'load_metadata', 'math', 'np', 'pd', 'yaml']\n"
     ]
    }
   ],
   "source": [
    "import pseudo_xrr.data_io\n",
    "print(dir(pseudo_xrr.data_io))"
   ]
  },
  {
   "cell_type": "code",
   "execution_count": null,
   "id": "42af1285",
   "metadata": {},
   "outputs": [
    {
     "name": "stdout",
     "output_type": "stream",
     "text": [
      "0.040000\t0.060000\t0.100000\t0.150000\t0.318000\t"
     ]
    },
    {
     "name": "stderr",
     "output_type": "stream",
     "text": [
      "C:\\Users\\alexp\\pyprojects\\pseudo_xrr\\pseudo_xrr\\data_io.py:39: FutureWarning: The 'delim_whitespace' keyword in pd.read_csv is deprecated and will be removed in a future version. Use ``sep='\\s+'`` instead\n",
      "  xrr_data               = pd.read_csv(\n"
     ]
    },
    {
     "ename": "KeyError",
     "evalue": "'kappa'",
     "output_type": "error",
     "traceback": [
      "\u001b[1;31m---------------------------------------------------------------------------\u001b[0m",
      "\u001b[1;31mKeyError\u001b[0m                                  Traceback (most recent call last)",
      "Cell \u001b[1;32mIn[52], line 2\u001b[0m\n\u001b[0;32m      1\u001b[0m importGIXOSdata, importbkg \u001b[38;5;241m=\u001b[39m load_data(\u001b[38;5;124m'\u001b[39m\u001b[38;5;124m./testing_data/gixos_metadata.yaml\u001b[39m\u001b[38;5;124m'\u001b[39m)\n\u001b[1;32m----> 2\u001b[0m metadata \u001b[38;5;241m=\u001b[39m \u001b[43mload_metadata\u001b[49m\u001b[43m(\u001b[49m\u001b[38;5;124;43m'\u001b[39;49m\u001b[38;5;124;43m./testing_data/gixos_metadata.yaml\u001b[39;49m\u001b[38;5;124;43m'\u001b[39;49m\u001b[43m)\u001b[49m\n",
      "File \u001b[1;32m~\\pyprojects\\pseudo_xrr\\pseudo_xrr\\data_io.py:57\u001b[0m, in \u001b[0;36mload_metadata\u001b[1;34m(yaml_path)\u001b[0m\n\u001b[0;32m     55\u001b[0m kb                     \u001b[38;5;241m=\u001b[39m meta[\u001b[38;5;124m\"\u001b[39m\u001b[38;5;124mphysical_constants\u001b[39m\u001b[38;5;124m\"\u001b[39m][\u001b[38;5;124m\"\u001b[39m\u001b[38;5;124mkb\u001b[39m\u001b[38;5;124m\"\u001b[39m]\n\u001b[0;32m     56\u001b[0m tension                \u001b[38;5;241m=\u001b[39m meta[\u001b[38;5;124m\"\u001b[39m\u001b[38;5;124mphysical_constants\u001b[39m\u001b[38;5;124m\"\u001b[39m][\u001b[38;5;124m\"\u001b[39m\u001b[38;5;124mtension\u001b[39m\u001b[38;5;124m\"\u001b[39m]\n\u001b[1;32m---> 57\u001b[0m kappa                  \u001b[38;5;241m=\u001b[39m \u001b[43mmeta\u001b[49m\u001b[43m[\u001b[49m\u001b[38;5;124;43m\"\u001b[39;49m\u001b[38;5;124;43mphysical_constants\u001b[39;49m\u001b[38;5;124;43m\"\u001b[39;49m\u001b[43m]\u001b[49m\u001b[43m[\u001b[49m\u001b[38;5;124;43m\"\u001b[39;49m\u001b[38;5;124;43mkappa\u001b[39;49m\u001b[38;5;124;43m\"\u001b[39;49m\u001b[43m]\u001b[49m\n\u001b[0;32m     58\u001b[0m temperature            \u001b[38;5;241m=\u001b[39m meta[\u001b[38;5;124m\"\u001b[39m\u001b[38;5;124mphysical_constants\u001b[39m\u001b[38;5;124m\"\u001b[39m][\u001b[38;5;124m\"\u001b[39m\u001b[38;5;124mtemperature\u001b[39m\u001b[38;5;124m\"\u001b[39m]\n\u001b[0;32m     60\u001b[0m \u001b[38;5;66;03m# Derived physics quantities\u001b[39;00m\n",
      "\u001b[1;31mKeyError\u001b[0m: 'kappa'"
     ]
    }
   ],
   "source": [
    "importGIXOSdata, importbkg = load_data('./testing_data/gixos_metadata.yaml')\n",
    "metadata = load_metadata('./testing_data/gixos_metadata.yaml')\n"
   ]
  },
  {
   "cell_type": "code",
   "execution_count": 32,
   "id": "370c842a",
   "metadata": {},
   "outputs": [
    {
     "data": {
      "text/plain": [
       "np.float64(0.04)"
      ]
     },
     "execution_count": 32,
     "metadata": {},
     "output_type": "execute_result"
    }
   ],
   "source": [
    "metadata[\"qxy0\"][ metadata[\"qxy0_select_idx\"] ]"
   ]
  },
  {
   "cell_type": "code",
   "execution_count": null,
   "id": "b2a21d1b",
   "metadata": {},
   "outputs": [
    {
     "ename": "NameError",
     "evalue": "name 'binning_GIXOS_data' is not defined",
     "output_type": "error",
     "traceback": [
      "\u001b[1;31m---------------------------------------------------------------------------\u001b[0m",
      "\u001b[1;31mNameError\u001b[0m                                 Traceback (most recent call last)",
      "Cell \u001b[1;32mIn[35], line 1\u001b[0m\n\u001b[1;32m----> 1\u001b[0m \u001b[43mbinning_GIXOS_data\u001b[49m(importGIXOSdata, importbkg)\n",
      "\u001b[1;31mNameError\u001b[0m: name 'binning_GIXOS_data' is not defined"
     ]
    }
   ],
   "source": [
    "importGIXOSdata, importbkg = binning_GIXOS_data(importGIXOSdata, importbkg)"
   ]
  },
  {
   "cell_type": "code",
   "execution_count": 39,
   "id": "fedd4024",
   "metadata": {},
   "outputs": [
    {
     "ename": "NameError",
     "evalue": "name 'rectangular_slit' is not defined",
     "output_type": "error",
     "traceback": [
      "\u001b[1;31m---------------------------------------------------------------------------\u001b[0m",
      "\u001b[1;31mNameError\u001b[0m                                 Traceback (most recent call last)",
      "Cell \u001b[1;32mIn[39], line 1\u001b[0m\n\u001b[1;32m----> 1\u001b[0m \u001b[43mrectangular_slit\u001b[49m()\n",
      "\u001b[1;31mNameError\u001b[0m: name 'rectangular_slit' is not defined"
     ]
    }
   ],
   "source": [
    "rectangular_slit()"
   ]
  },
  {
   "cell_type": "code",
   "execution_count": 11,
   "id": "269fba7a",
   "metadata": {},
   "outputs": [
    {
     "data": {
      "text/plain": [
       "22.942483292886546"
      ]
     },
     "execution_count": 11,
     "metadata": {},
     "output_type": "execute_result"
    }
   ],
   "source": [
    "metadata[\"RFscaling\"]"
   ]
  },
  {
   "cell_type": "code",
   "execution_count": 3,
   "id": "5b08e599",
   "metadata": {},
   "outputs": [],
   "source": [
    "binsize = 10\n",
    "groupnumber =  math.floor(importGIXOSdata [\"Intensity\"].shape[0] / binsize)      # look at the first row with .shape[0]\n",
    "num_columns = importGIXOSdata[\"Intensity\"].shape[1]\n",
    "\n",
    "binneddata = None\n",
    "binnedbkg = None\n",
    "\n",
    "for groupidx in range(groupnumber): # why can't we just round up before if we are adding 1 to it?\n",
    "    start = groupidx * binsize\n",
    "    end = (groupidx + 1) * binsize\n",
    "   \n",
    "    if binneddata is None:\n",
    "        binneddata = {\n",
    "        \"Intensity\": np.zeros((groupnumber, num_columns)),\n",
    "        \"error\": np.zeros((groupnumber, num_columns)),\n",
    "        \"tt\": np.zeros(groupnumber),\n",
    "    } \n",
    "\n",
    "    binneddata [\"Intensity\"][groupidx, :] = np.sum(importGIXOSdata [\"Intensity\"][start:end, :], axis=0)\n",
    "    binneddata [\"error\"][groupidx, :] = np.sqrt(np.sum(importGIXOSdata [\"error\"][start:end, :]**2, axis=0))\n",
    "    binneddata [\"tt\"][groupidx] = np.mean(importGIXOSdata [\"tt\"][start:end])\n",
    "\n",
    "    if binnedbkg is None:\n",
    "        binnedbkg = {\n",
    "        \"Intensity\": np.zeros((groupnumber, num_columns)),\n",
    "        \"error\": np.zeros((groupnumber, num_columns)),\n",
    "        \"tt\": np.zeros((groupnumber, 1)),\n",
    "    }\n",
    "    binnedbkg [\"Intensity\"][groupidx, :] = np.sum(importbkg [\"Intensity\"][start:end, :], axis=0)\n",
    "    binnedbkg [\"error\"][groupidx, :] = np.sqrt(np.sum(importbkg [\"error\"][start:end, :]**2, axis=0))\n",
    "    binnedbkg [\"tt\"][groupidx, :] = np.mean(importbkg [\"tt\"][start:end], axis=0)    # no [ , :] because would index through all columns but we only have 1 in [\"tt\"]\n",
    "\n",
    "importGIXOSdata = binneddata\n",
    "importbkg = binnedbkg\n",
    "\n",
    "# binneddata [\"tt\"] is meant to be a 1D array, but is showing a 2D one; correct value but in multiple columns - fixed\n",
    "# binneddata [\"error\"] is simply wrong values\n",
    "# ~~~~ Should match up with MATLAB outputs ~~~~~\n",
    "#print(importGIXOSdata)"
   ]
  },
  {
   "cell_type": "code",
   "execution_count": 4,
   "id": "d493111d",
   "metadata": {},
   "outputs": [],
   "source": [
    "tt_step = np.mean(importGIXOSdata [\"tt\"][1:] - importGIXOSdata [\"tt\"][0:-1])\n",
    "indices =  np.where(importGIXOSdata [\"tt\"] < 0)[0] # finding indices where value stored is less than 0\n",
    "tt_start_idx = indices[-1] if len(indices) > 0 else None  # taking the last  value of indices, and checking if indices is a valid list to take from\n",
    "\n",
    "importGIXOSdata[\"Intensity\"] = importGIXOSdata[\"Intensity\"][tt_start_idx+1 :,:]\n",
    "importGIXOSdata[\"error\"] = importGIXOSdata[\"error\"][tt_start_idx+1 :,:]\n",
    "importGIXOSdata[\"tt\"] = importGIXOSdata[\"tt\"][tt_start_idx+1 :]\n",
    "importbkg[\"Intensity\"] = importbkg[\"Intensity\"][tt_start_idx+1 :,:]\n",
    "importbkg[\"error\"] = importbkg[\"error\"][tt_start_idx+1 :,:]\n",
    "importbkg[\"tt\"] = importbkg[\"tt\"][tt_start_idx+1 :]  # in essence, we are removing the first rows of the data that have negative tt values"
   ]
  },
  {
   "cell_type": "code",
   "execution_count": 5,
   "id": "3db6b163",
   "metadata": {},
   "outputs": [],
   "source": [
    "tth = np.degrees(np.arcsin(qxy0[qxy0_select_idx] * wavelength / 4 / np.pi)) * 2          # math.asin would work if not a list\n",
    "tth_roiHW_real = np.degrees(pixel * DSpxHW / Ddet)\n",
    "DSqxyHW_real = np.radians(tth_roiHW_real) / 2 * 4 * np.pi / wavelength * np.cos(np.radians(tth/2))\n",
    "\n",
    "# columns_GIXOS = [\"tt\", \"Qxy\", \"Qz\", ]\n",
    "# GIXOS = pd.DataFrame(columns = columns_GIXOS) # does not work for what needs to be done ////////////// fix later\n",
    "# GIXOS[\"tt\"] = importGIXOSdata[\"tt\"]\n",
    "# DSbetaHW = np.mean(GIXOS [\"tt\"][1:] - GIXOS [\"tt\"][0:-1]) / 2\n",
    "#Same as MATLAB"
   ]
  },
  {
   "cell_type": "code",
   "execution_count": 6,
   "id": "bcae215f",
   "metadata": {},
   "outputs": [
    {
     "name": "stdout",
     "output_type": "stream",
     "text": [
      "[4]\n",
      "4\n"
     ]
    }
   ],
   "source": [
    "GIXOS = {\n",
    "    \"tt\": importGIXOSdata[\"tt\"],\n",
    "    \"GIXOS_raw\": importGIXOSdata[\"Intensity\"] [:, qxy0_select_idx],\n",
    "    \"GIXOS_bkg\": importbkg[\"Intensity\"] [:, qxy0_select_idx]\n",
    "}\n",
    "DSbetaHW = np.mean(GIXOS[\"tt\"][1:] - GIXOS[\"tt\"][0:-1]) / 2\n",
    "qxy0_idx = np.where(qxy0 > qxy_bkg)\n",
    "qxy0_idx = qxy0_idx[0]\n",
    "if len(qxy0_idx) == 0:\n",
    "    qxy0_idx = [len(qxy0) + 1]\n",
    "GIXOS[\"Qxy\"] = 2 * np.pi / wavelength * np.sqrt((np.cos(np.radians(GIXOS[\"tt\"])) * np.sin(np.radians(tth)))**2 + (np.cos(np.radians(alpha_i)) - np.cos(np.radians(GIXOS[\"tt\"])) * np.cos(np.radians(tth)))**2)\n",
    "GIXOS[\"Qz\"] = 2 * np.pi / wavelength * (np.sin(np.radians(GIXOS[\"tt\"])) + np.sin(np.radians(alpha_i)))\n",
    "GIXOS[\"GIXOS_raw\"] = importGIXOSdata[\"Intensity\"] [:, qxy0_select_idx]\n",
    "GIXOS[\"GIXOS_bkg\"] = importbkg[\"Intensity\"] [:, qxy0_select_idx]\n",
    "if qxy0_idx[0] <= len(qxy0):\n",
    "    GIXOS_raw_largetth = np.mean(importGIXOSdata[\"Intensity\"][:, int(qxy0_idx):], axis = 1)\n",
    "    GIXOS_bkg_largetth = np.mean(importbkg[\"Intensity\"][:, int(qxy0_idx):], axis = 1)\n",
    "    bulkbkg = GIXOS_raw_largetth - GIXOS_bkg_largetth\n",
    "else:\n",
    "    bulkbkg = np.zeros(len(qxy0))\n",
    "\n",
    "fdtt = np.radians(tt_step) / (np.arctan((np.tan(np.radians(GIXOS [\"tt\"]))*Ddet + pixel/2)/Ddet) - np.arctan((np.tan(np.radians(GIXOS [\"tt\"]))*Ddet - pixel / 2) / Ddet))\n",
    "fdtt = fdtt / fdtt [0]\n",
    "\n",
    "GIXOS[\"GIXOS\"] = (GIXOS [\"GIXOS_raw\"] - GIXOS [\"GIXOS_bkg\"]) * fdtt - bulkbkg * fdtt\n",
    "GIXOS[\"error\"] = np.sqrt(importGIXOSdata[\"error\"][:, qxy0_select_idx]**2 + importbkg[\"error\"][:, qxy0_select_idx]**2) * fdtt\n",
    "# fdtt is off & unknown how will react if none for qxy0_idx\n",
    "# GIXOS[\"GIXOS\"] & GIXOS[\"error\"] are not the same as MATLAB outputs\n",
    "#print(GIXOS[\"GIXOS_raw\"])\n",
    "print(qxy0_idx)\n",
    "print(qxy0_idx[0])"
   ]
  },
  {
   "cell_type": "code",
   "execution_count": 7,
   "id": "1aa93fcd",
   "metadata": {},
   "outputs": [
    {
     "data": {
      "image/png": "[encoded data removed]",
      "text/plain": [
       "<Figure size 720x432 with 1 Axes>"
      ]
     },
     "metadata": {
      "needs_background": "light"
     },
     "output_type": "display_data"
    }
   ],
   "source": [
    "# is the close plot command needed here?\n",
    "import os\n",
    "\n",
    "plt.figure(figsize = (10, 6))\n",
    "plt.plot(GIXOS[\"Qz\"], GIXOS[\"GIXOS_raw\"] - GIXOS[\"GIXOS_bkg\"], 'ko', markersize=3, label='corrected data by chamber transmission bkg')\n",
    "plt.plot(GIXOS[\"Qz\"], GIXOS[\"GIXOS\"], 'go', markersize=3, label='with large Qz subtraction')\n",
    "plt.plot(GIXOS[\"Qz\"], GIXOS[\"GIXOS_raw\"], 'r-', linewidth=1.5, label='raw data')\n",
    "plt.plot(GIXOS[\"Qz\"], GIXOS[\"GIXOS_bkg\"], 'b-', linewidth=1.5, label='bkg data at same tth')\n",
    "plt.plot(GIXOS[\"Qz\"], GIXOS_raw_largetth, 'r:', linewidth=1.5, label='raw data wide angle')\n",
    "plt.plot(GIXOS[\"Qz\"], GIXOS_bkg_largetth, 'b:', linewidth=1.5, label='bkg data wide angle')\n",
    "plt.axhline(0, color='k', linestyle='-.', linewidth=1.5, label='0-line')\n",
    "\n",
    "# --- Show legend and display\n",
    "plt.legend()\n",
    "plt.xlabel(\"Qz\")\n",
    "plt.ylabel(\"Intensity\")\n",
    "plt.title(\"GIXOS Data\")\n",
    "plt.grid(True)\n",
    "plt.tight_layout()\n",
    "\n",
    "plt.xlim([0, 1.05])\n",
    "ax = plt.gca()\n",
    "\n",
    "ax.set_xlabel(r'$Q_z$ [$\\mathrm{\\AA}^{-1}$]', fontsize=12)  # Qz with angstrom symbol\n",
    "ax.set_ylabel('GIXOS', fontsize=12)\n",
    "\n",
    "ax.set_xticks(np.arange(0, 1.01, 0.2))  # same as 0:0.2:1\n",
    "ax.tick_params(axis='both', labelsize=12, width=2, direction='out')\n",
    "\n",
    "plt.legend(loc='upper right', frameon=False)  # 'NorthEast' => 'upper right'\n",
    "\n",
    "# --- Save figure\n",
    "filename = f\"{sample}_{qxy0_select_idx:05d}_GIXOS.jpg\"\n",
    "save_path = os.path.join(path_out, filename)\n",
    "plt.savefig(save_path, dpi=300)\n",
    "plt.show()\n"
   ]
  },
  {
   "cell_type": "code",
   "execution_count": 8,
   "id": "249ec822",
   "metadata": {},
   "outputs": [
    {
     "data": {
      "image/png": "[encoded data removed]",
      "text/plain": [
       "<Figure size 576x360 with 1 Axes>"
      ]
     },
     "metadata": {
      "needs_background": "light"
     },
     "output_type": "display_data"
    }
   ],
   "source": [
    "# NEED TO HAVE FUNCTIONS DEFINED - SEE CHEN'S CODE FOR THE FUNCTIONS\n",
    "\n",
    "fresnel = GIXOS_fresnel(GIXOS [\"Qz\"], Qc) # check if fresnel == GIXOS_fresnel      SAME\n",
    "Qz_array = np.asarray(GIXOS [\"Qz\"]).reshape(-1, 1) # done to convert GIXOS [\"Qz\"] from a row vetor to a column vector for GIXOS_Tsqr\n",
    "transmission = GIXOS_Tsqr(Qz_array, Qc, energy, alpha_i, Ddet, footprint)  #  Mostly the same, but the 4th column starts to deviate from the MATLAB output by hundredths\n",
    "dQz = GIXOS_dQz(GIXOS[\"Qz\"], energy, alpha_i, Ddet, footprint)     # Almost same, just not iterating through enough times(?) --> missing last row      SAME now\n",
    "\n",
    "GIXOS[\"DS_RRF_integ\"], GIXOS[\"DS_term_integ\"], GIXOS[\"RRF_term_integ\"] = calc_film_DS_RRF_integ(GIXOS [\"tt\"], qxy0 [qxy0_select_idx], energy/1000, alpha_i, RqxyHW, DSqxyHW_real, DSbetaHW, tension, temperature, kappa, amin, use_approx=False)\n",
    "# DS = Diffuse Scatter; RRF = Specular Reflectivity Normalized by Fresnel Reflectivity\n",
    "# Approx form is derived from Taylor expansion, which is dependent on being close to 0 angle --> higher deviations at high angles\n",
    "\n",
    "GIXOS[\"refl\"] = np.column_stack([\n",
    "    GIXOS[\"Qz\"],\n",
    "    GIXOS[\"GIXOS\"] / GIXOS[\"DS_RRF_integ\"] * fresnel[:, 1] / transmission[:, 3],\n",
    "    GIXOS[\"error\"] / GIXOS[\"DS_RRF_integ\"] * fresnel[:, 1] / transmission[:, 3],\n",
    "    dQz[:, 4]\n",
    "])\n",
    "\n",
    "GIXOS[\"SF\"] = np.column_stack([\n",
    "    GIXOS[\"Qz\"],\n",
    "    GIXOS[\"GIXOS\"] / GIXOS[\"DS_term_integ\"] / transmission[:, 3],\n",
    "    GIXOS[\"error\"] / GIXOS[\"DS_term_integ\"] / transmission[:, 3],\n",
    "    dQz[:, 4]\n",
    "])"
   ]
  },
  {
   "cell_type": "code",
   "execution_count": 9,
   "id": "00cd9c34",
   "metadata": {},
   "outputs": [],
   "source": [
    "from scipy.integrate import dblquad # equivalent to integrate2() in MATLAB\n",
    "#from numba import njit\n",
    "\n",
    "xrr_config_energy = 14400\n",
    "\n",
    "xrr_config_sdd = 1039.9\n",
    "xrr_config_slit_h = 1\n",
    "xrr_config_slit_v = 0.66 # not meant to be 1? - See MATLAB ig\n",
    "\n",
    "xrr_config_wavelength = 12400/xrr_config_energy\n",
    "xrr_config_wave_number = 2 * np.pi / xrr_config_wavelength\n",
    "xrr_config_Qz = GIXOS[\"Qz\"]\n",
    "xrr_config_dataQz = xrr_data.iloc[:, 0].astype(float).to_numpy()  # see later bc accessing data !!!!!!!!!!!!!!!!!!!  might have bugs bc came out as strings and need to convert to float\n",
    "xrr_config_beta_xrr = np.degrees(np.arcsin(xrr_config_Qz / 2 / xrr_config_wave_number))\n",
    "xrr_config_beta_xrr = xrr_config_beta_xrr.reshape(-1, 1) # do this, otherwise beta_xrr has shape (46,) instead of (46, 1) which will mess up xrr_config_phi_array_for_qxy_slit_min and make it (46, 46) instead of (46, 1) like MATLAB code\n",
    "xrr_config_dataRF = (( xrr_config_dataQz - np.lib.scimath.sqrt(xrr_config_dataQz**2 - Qc**2)) / (xrr_config_dataQz + np.lib.scimath.sqrt(xrr_config_dataQz**2 - Qc**2))) * np.conj((xrr_config_dataQz - np.lib.scimath.sqrt(xrr_config_dataQz**2 - Qc**2)) / (xrr_config_dataQz + np.lib.scimath.sqrt(xrr_config_dataQz**2 - Qc**2)))\n",
    "xrr_config_RF = fresnel[:, 1]\n",
    "xrr_config_kbT_gamma = kb * temperature / tension * 10 ** 20\n",
    "xrr_config_eta = xrr_config_kbT_gamma / 2 / np.pi * xrr_config_Qz ** 2\n",
    "# maybe delete xrr_config for simplicity\n",
    "xrr_config_delta_phi_HW = np.degrees(np.arctan(xrr_config_slit_h / 2 / xrr_config_sdd / np.cos(np.radians(xrr_config_beta_xrr))))\n",
    "xrr_config_delta_beta_HW =   np.degrees(np.arcsin(xrr_config_slit_v / 2 / xrr_config_sdd * np.cos(np.radians(xrr_config_beta_xrr))))\n",
    "\n",
    "xrr_config_slit_h_coord = np.arange(-xrr_config_slit_h / 2, xrr_config_slit_h / 2 + 0.005, 0.005)\n",
    "xrr_config_slit_v_coord = np.arange(-xrr_config_slit_v / 2, xrr_config_slit_v / 2 + 0.005, 0.005)\n",
    "xrr_config_slit_t = np.column_stack((xrr_config_slit_h_coord, np.ones(len(xrr_config_slit_h_coord)) * xrr_config_slit_v / 2))  \n",
    "xrr_config_slit_b = np.column_stack((xrr_config_slit_h_coord, np.ones(len(xrr_config_slit_h_coord)) * -xrr_config_slit_v / 2))\n",
    "xrr_config_slit_l = np.column_stack((np.ones(len(xrr_config_slit_v_coord)) * -xrr_config_slit_h / 2, xrr_config_slit_v_coord))\n",
    "xrr_config_slit_r = np.column_stack((np.ones(len(xrr_config_slit_v_coord)) * xrr_config_slit_h / 2, xrr_config_slit_v_coord))\n",
    "xrr_config_slit_coord = np.concatenate((xrr_config_slit_t, xrr_config_slit_r, np.flipud(xrr_config_slit_b), np.flipud(xrr_config_slit_l)), axis = 0)\n",
    "xrr_config_qxy_slit = np.zeros( (xrr_config_slit_coord.shape[0], 2, xrr_config_beta_xrr.shape[0]) )\n",
    "xrr_config_qxy_slit_min = np.zeros( (xrr_config_beta_xrr.shape[0], 1) )\n",
    "xrr_config_ang = np.arange(0, 2 * np.pi, 0.01)\n",
    "#xrr_config_ang = xrr_config_ang.reshape(-1, 1)  # transposing to make it a column vector\n",
    "xrr_config_qxy_slit_min_coord = np.zeros( (xrr_config_ang.shape[0], 2, xrr_config_qxy_slit_min.shape[0]))\n",
    "for idx in range(len(xrr_config_beta_xrr)):\n",
    "    xrr_config_qxy_slit[:, :, idx] = xrr_config_wave_number * np.column_stack([xrr_config_slit_coord[:, 0] / xrr_config_sdd, xrr_config_slit_coord[:, 1] / xrr_config_sdd * np.sin(np.radians(xrr_config_beta_xrr[idx]))])\n",
    "    xrr_config_qxy_slit_min[idx, 0] = np.min(np.sqrt(xrr_config_qxy_slit[:, 0, idx]**2 + xrr_config_qxy_slit[:, 1, idx]**2))\n",
    "    xrr_config_qxy_slit_min_coord[:, :, idx] = xrr_config_qxy_slit_min[idx] * np.column_stack([np.cos(xrr_config_ang), np.sin(xrr_config_ang)])  # might not need np.array\n",
    "\n",
    "xrr_config_phi_max_qxy_slit_min = np.degrees(np.arctan(xrr_config_qxy_slit_min / xrr_config_wave_number / np.cos(np.radians(xrr_config_beta_xrr))))\n",
    "\n",
    "xrr_config_phi_array_for_qxy_slit_min = xrr_config_phi_max_qxy_slit_min * np.array([0, 1/5, 2/5, 3/5, 4/5])\n",
    "xrr_config_delta_beta_array_for_qxy_slit_min = np.degrees(\n",
    "    np.arcsin(\n",
    "        (np.sqrt(\n",
    "            np.maximum(xrr_config_qxy_slit_min[:, 0:1]**2 - \n",
    "                       (np.tan(np.radians(xrr_config_phi_array_for_qxy_slit_min)) * \n",
    "                        np.cos(np.radians(xrr_config_beta_xrr)) * \n",
    "                        xrr_config_wave_number) ** 2, 0))\n",
    "         / (xrr_config_wave_number * np.sin(np.radians(xrr_config_beta_xrr))))\n",
    "        * np.cos(np.radians(xrr_config_beta_xrr))\n",
    "    )\n",
    ")\n",
    "\n",
    "delta_beta_HW_1d = xrr_config_delta_beta_HW[:, 0]\n",
    "for idx in range(xrr_config_delta_beta_array_for_qxy_slit_min.shape[1]):\n",
    "    repidx = xrr_config_delta_beta_array_for_qxy_slit_min[:, idx] >= delta_beta_HW_1d\n",
    "    xrr_config_delta_beta_array_for_qxy_slit_min[repidx, idx] = delta_beta_HW_1d[repidx]  # replace values that are greater than delta_beta_HW with delta_beta_HW\n",
    "\n",
    "xrr_config_phi_array_for_qxy_slit_min = np.hstack([xrr_config_phi_array_for_qxy_slit_min, xrr_config_phi_max_qxy_slit_min]) # might not work with np.column_stack bc size mismatch --> column_hstack\n",
    "\n",
    "xrr_config_bkgoff = 1\n",
    "xrr_config_bkg_phi = np.degrees(np.arctan(xrr_config_bkgoff / (xrr_config_sdd * np.cos(np.radians(xrr_config_beta_xrr)))))   # off by ten thousandths place - supposed to get larger as index increases, but decreases instead?\n",
    "\n",
    "\n",
    "xrr_config_r_step = 0.001\n",
    "xrr_config_r = np.sqrt(np.maximum(np.arange(0.001, 8*round(Lk) + xrr_config_r_step, xrr_config_r_step) ** 2 + amin ** 2, 0))\n",
    "xrr_config_C_integrand = np.zeros((len(xrr_config_Qz), len(xrr_config_r)))\n",
    "for idx in range(len(xrr_config_Qz)):\n",
    "    xrr_config_C_integrand[idx, :] = 2 * np.pi * xrr_config_r**(1 - xrr_config_eta[idx]) * (np.exp(-xrr_config_eta[idx] * besselk(0, xrr_config_r / Lk)) - 1)    # off by thousandths place\n",
    "# Matches up till here\n",
    "\n",
    "xrr_config_C = np.sum(xrr_config_C_integrand, axis = 1) * xrr_config_r_step\n",
    "xrr_config_qxy_slit_min_flat = xrr_config_qxy_slit_min.flatten()  # (46,) so that RRF_term does not return a (46, 46) array since MATLAB returns a (46, 1)\n",
    "xrr_config_RRF_term = (xrr_config_qxy_slit_min_flat ** xrr_config_eta + xrr_config_qxy_slit_min_flat ** 2 * xrr_config_C / 4 / np.pi) * (1/qmax) ** xrr_config_eta * np.exp(xrr_config_eta * besselk(0, 1 / Lk / qmax))\n",
    "xrr_config_specular_qxy_min = xrr_config_RF * xrr_config_RRF_term # off by hundredths/thousandths\n",
    "\n",
    "xrr_config_region_around_radial_u_r = np.zeros((len(xrr_config_beta_xrr), xrr_config_delta_beta_array_for_qxy_slit_min.shape[1]))    # off by ~5-8 thousandths\n",
    "xrr_config_region_around_radial_l_r = np.zeros((len(xrr_config_beta_xrr), xrr_config_delta_beta_array_for_qxy_slit_min.shape[1]))    # off by ~5-8 thousandths\n",
    "xrr_config_diff_r = np.zeros((len(xrr_config_beta_xrr), 1))    # VERY OFF\n",
    "xrr_config_diff_r_bkgoff = np.zeros((len(xrr_config_beta_xrr), 1))    # VERY OFF\n",
    "\n",
    "xrr_config_diff_r = xrr_config_diff_r.flatten()\n",
    "xrr_config_diff_r_bkgoff = xrr_config_diff_r_bkgoff.flatten()\n",
    "\n",
    "for idx in range(len(xrr_config_beta_xrr)):\n",
    "    fun_film = lambda tt, tth: film_integral_approx_delta_beta_delta_phi(tt, tth, xrr_config_kbT_gamma, xrr_config_wave_number, xrr_config_beta_xrr[idx], Lk, amin)\n",
    "    for phi_idx in range(xrr_config_delta_beta_array_for_qxy_slit_min.shape[1]):\n",
    "        upper, _ = dblquad(lambda tth, tt: fun_film(tt, tth), (xrr_config_beta_xrr[idx] + xrr_config_delta_beta_array_for_qxy_slit_min[idx, phi_idx]), (xrr_config_beta_xrr[idx] + xrr_config_delta_beta_HW[idx]), lambda _: xrr_config_phi_array_for_qxy_slit_min[idx, phi_idx], lambda _: xrr_config_phi_array_for_qxy_slit_min[idx, phi_idx + 1], epsabs=1e-10 , epsrel=1e-6)\n",
    "        xrr_config_region_around_radial_u_r[idx, phi_idx] = upper * (np.pi/180) ** 2 * (9.42e-6)**2 / np.sin(np.radians(xrr_config_beta_xrr[idx]))\n",
    "\n",
    "        lower, _ = dblquad(lambda tth, tt: fun_film (tt, tth), (xrr_config_beta_xrr[idx] - xrr_config_delta_beta_HW[idx]), (xrr_config_beta_xrr[idx] - xrr_config_delta_beta_array_for_qxy_slit_min[idx, phi_idx]), lambda _: xrr_config_phi_array_for_qxy_slit_min[idx, phi_idx], lambda _: xrr_config_phi_array_for_qxy_slit_min[idx, phi_idx + 1], epsabs=1e-10, epsrel=1e-6)\n",
    "        xrr_config_region_around_radial_l_r[idx, phi_idx] = lower * (np.pi/180)**2 * (9.42e-6)**2 / np.sin(np.radians(xrr_config_beta_xrr[idx]))\n",
    "\n",
    "    # Run the integral\n",
    "    result, _ = dblquad(\n",
    "    func=fun_film,\n",
    "    a = xrr_config_beta_xrr[idx] - xrr_config_delta_beta_HW[idx],\n",
    "    b = xrr_config_beta_xrr[idx] + xrr_config_delta_beta_HW[idx],\n",
    "    gfun=lambda beta: xrr_config_phi_max_qxy_slit_min[idx],\n",
    "    hfun=lambda beta: xrr_config_phi_max_qxy_slit_min[idx] + xrr_config_delta_phi_HW[idx]\n",
    "    )\n",
    "\n",
    "# Store the result (second column, index 0 in Python)\n",
    "    xrr_config_diff_r[idx] = (result * (np.pi / 180)**2 * (9.42e-6)**2 / np.sin(np.deg2rad(xrr_config_beta_xrr[idx])))\n",
    "        \n",
    "    result2, _ = dblquad(func=fun_film,\n",
    "    a=xrr_config_beta_xrr[idx] - xrr_config_delta_beta_HW[idx],\n",
    "    b=xrr_config_beta_xrr[idx] + xrr_config_delta_beta_HW[idx],\n",
    "    gfun=lambda beta: xrr_config_bkg_phi[idx] - xrr_config_delta_phi_HW[idx],\n",
    "    hfun=lambda beta: xrr_config_bkg_phi[idx] + xrr_config_delta_phi_HW[idx]\n",
    "    )\n",
    "    xrr_config_diff_r_bkgoff[idx] = diff_r_bkgoff = (result2 * (np.pi / 180)**2 * (9.42e-6)**2 / np.sin(np.deg2rad(xrr_config_beta_xrr[idx])))\n",
    "\n",
    "\n",
    "\n",
    "xrr_config_Rterm_rect_slit = xrr_config_specular_qxy_min + 2*(np.sum(xrr_config_region_around_radial_u_r + xrr_config_region_around_radial_u_r, axis = 1) + xrr_config_diff_r)\n",
    "xrr_config_bkgterm_rect_slit = xrr_config_diff_r_bkgoff\n",
    "\n",
    "# integration might be wrong; Rterm seems close enough, but bkgterm is off by a lot\n"
   ]
  },
  {
   "cell_type": "code",
   "execution_count": 10,
   "id": "8785f85b",
   "metadata": {},
   "outputs": [],
   "source": [
    "numerator_scaling = (xrr_config_Rterm_rect_slit - xrr_config_bkgterm_rect_slit)\n",
    "denominator = GIXOS[\"DS_term_integ\"] * transmission[:, 3]  # Element-wise multiplication\n",
    "\n",
    "refl_recSlit = np.column_stack([\n",
    "    GIXOS[\"Qz\"],\n",
    "    GIXOS[\"GIXOS\"] * numerator_scaling / denominator,\n",
    "    GIXOS[\"error\"] * numerator_scaling / denominator,\n",
    "    dQz[:, 4]\n",
    "])\n",
    "\n",
    "refl_roughness_term = (xrr_config_Rterm_rect_slit - xrr_config_bkgterm_rect_slit) / xrr_config_RF\n",
    "refl_roughness = np.sqrt(-np.log(refl_roughness_term) / GIXOS[\"Qz\"]**2)\n",
    "GIXOS[\"SF\"] = np.column_stack([GIXOS[\"SF\"], refl_roughness, refl_roughness_term])"
   ]
  },
  {
   "cell_type": "code",
   "execution_count": 11,
   "id": "92e768cb",
   "metadata": {},
   "outputs": [],
   "source": [
    "# Output file creation\n",
    "\n",
    "# ---- FILE 1: Pseudo Reflectivity ----\n",
    "xrrfilename = f\"{path_out}{sample}_{scan[qxy0_select_idx]:05d}_R_PYTHON.dat\"\n",
    "with open(xrrfilename, 'w') as f:\n",
    "    f.write(f\"# files\\n\")\n",
    "    f.write(f\"sample file: {sample}-id{scan[qxy0_select_idx]}\\n\")\n",
    "    f.write(f\"background file: {bkgsample}-id{bkgscan[qxy0_select_idx]}\\n\")\n",
    "    f.write(f\"wide angle bkg at qxy0 = {qxy_bkg:.6f} /A\\n\")\n",
    "    f.write(f\"# geometry\\n\")\n",
    "    f.write(f\"energy [eV]: {energy:.2f}\\n\")\n",
    "    f.write(f\"incidence [deg]: {alpha_i}\\n\")\n",
    "    f.write(f\"footprint [mm]: {footprint:.1f}\\n\")\n",
    "    f.write(f\"sdd [mm]: {Ddet:.2f}\\n\")\n",
    "    f.write(f\"qxy resolution HWHM at specular [A^-1]: {DSresHW}\\n\")\n",
    "    f.write(f\"phi_opening [deg]: {tth_roiHW_real}\\n\")\n",
    "    f.write(f\"beta_step [deg]: {tt_step}\\n\")\n",
    "    f.write(f\"# DS-XRR conversion optics setting\\n\")\n",
    "    f.write(f\"phi [deg]: {tth}\\n\")\n",
    "    f.write(f\"qxy(beta=0) [A^-1]: {qxy0[qxy0_select_idx]}\\n\")\n",
    "    f.write(f\"phi integration HW [deg]: {tth_roiHW_real}\\n\")\n",
    "    f.write(f\"corresponding qxy HW [A^-1]: {DSqxyHW_real}\\n\")\n",
    "    f.write(f\"R slit: {xrr_config_slit_v} mm (v) {xrr_config_slit_h} mm (h) at {xrr_config_sdd} mm distance, {xrr_config_energy} eV beam energy\\n\")\n",
    "    f.write(f\"scaling: {RFscaling}\\n\")\n",
    "    f.write(f\"# DS-XRR conversion sample setting\\n\")\n",
    "    f.write(f\"tension [N/m]: {tension}\\n\")\n",
    "    f.write(f\"temperature [K]: {temperature:.1f}\\n\")\n",
    "    f.write(f\"kappa [kbT]: {kappa:.1f}\\n\")\n",
    "    f.write(f\"CW short cutoff [A]: {amin}\\n\")\n",
    "    f.write(f\"CW and Kapa roughness [A]: {refl_roughness[0]} to {refl_roughness[-1]}\\n\")\n",
    "    f.write(\"# data\\nqz\\tR\\tdR\\tdqz\\n[A^-1]\\t[a.u.]\\t[a.u.]\\t[A^-1]\\n\")\n",
    "\n",
    "# Save reflectivity data\n",
    "with open(xrrfilename, 'a') as f:\n",
    "    np.savetxt(f, refl_recSlit, delimiter='\\t', fmt='%.6e')\n",
    "#    np.savetxt(f, refl_recSlit, delimiter='\\t', fmt='%.6e', comments='', header='', encoding='utf-8', newline='\\n', append=True)\n",
    "\n",
    "\n",
    "# ---- FILE 2: DS/(R/RF) ----\n",
    "ds2rrf_filename = f\"{path_out}{sample}_{scan[qxy0_select_idx]:05d}_DS2RRF_PYTHON.dat\"\n",
    "with open(ds2rrf_filename, 'w') as f:\n",
    "    f.write(f\"# files\\n\")\n",
    "    f.write(f\"sample file: {sample}-id{scan[qxy0_select_idx]}\\n\")\n",
    "    f.write(f\"background file: {bkgsample}-id{bkgscan[qxy0_select_idx]}\\n\")\n",
    "    f.write(f\"wide angle bkg at qxy0 = {qxy_bkg:.6f} /A\\n\")\n",
    "    f.write(f\"# geometry\\n\")\n",
    "    f.write(f\"energy [eV]: {energy:.2f}\\n\")\n",
    "    f.write(f\"incidence [deg]: {alpha_i}\\n\")\n",
    "    f.write(f\"footprint [mm]: {footprint:.1f}\\n\")\n",
    "    f.write(f\"sdd [mm]: {Ddet:.2f}\\n\")\n",
    "    f.write(f\"qxy resolution HWHM at specular [A^-1]: {DSresHW}\\n\")\n",
    "    f.write(f\"phi_opening [deg]: {tth_roiHW_real}\\n\")\n",
    "    f.write(f\"beta_step [deg]: {tt_step}\\n\")\n",
    "    f.write(f\"# DS-XRR conversion optics setting\\n\")\n",
    "    f.write(f\"phi [deg]: {tth}\\n\")\n",
    "    f.write(f\"qxy(beta=0) [A^-1]: {qxy0[qxy0_select_idx]}\\n\")\n",
    "    f.write(f\"phi integration HW [deg]: {tth_roiHW_real}\\n\")\n",
    "    f.write(f\"corresponding qxy HW [A^-1]: {DSqxyHW_real}\\n\")\n",
    "    f.write(f\"R slit: {xrr_config_slit_v} mm (v) {xrr_config_slit_h} mm (h) at {xrr_config_sdd} mm distance, {xrr_config_energy} eV beam energy\\n\")\n",
    "    f.write(f\"scaling: {RFscaling}\\n\")\n",
    "    f.write(f\"# DS-XRR conversion sample setting\\n\")\n",
    "    f.write(f\"tension [N/m]: {tension}\\n\")\n",
    "    f.write(f\"temperature [K]: {temperature:.1f}\\n\")\n",
    "    f.write(f\"kappa [kbT]: {kappa:.1f}\\n\")\n",
    "    f.write(f\"CW short cutoff [A]: {amin}\\n\")\n",
    "    f.write(f\"CW and Kapa roughness [A]: {refl_roughness[0]} to {refl_roughness[-1]}\\n\")\n",
    "    f.write(\"# data\\nqz\\tDS/(R/RF)\\n[A^-1]\\t[a.u.]\\n\")\n",
    "\n",
    "ds_over_rrf = GIXOS[\"DS_term_integ\"] / (xrr_config_Rterm_rect_slit / xrr_config_RF)\n",
    "with open(ds2rrf_filename, 'a') as f:\n",
    "    np.savetxt(f, np.column_stack((GIXOS[\"Qz\"], ds_over_rrf)), delimiter='\\t', fmt='%.6e')\n",
    "#     np.savetxt(f, np.column_stack((GIXOS[\"Qz\"], ds_over_rrf)), delimiter='\\t', fmt='%.6e', comments='', header='', encoding='utf-8', newline='\\n', append=True)\n",
    "\n",
    "\n",
    "# ---- FILE 3: Structure Factor ----\n",
    "sf_filename = f\"{path_out}{sample}_{scan[qxy0_select_idx]:05d}_SF_PYTHON.dat\"\n",
    "with open(sf_filename, 'w') as f:\n",
    "    f.write(f\"# pure structure factor and kapa/cw roughness with its decay term under given XRR resolution\\n\")\n",
    "    f.write(f\"# files\\nsample file: {sample}-id{scan[qxy0_select_idx]}\\n\")\n",
    "    f.write(f\"background file: {bkgsample}-id{bkgscan[qxy0_select_idx]}\\n\")\n",
    "    f.write(f\"wide angle bkg at qxy0 = {qxy_bkg:.6f} /A\\n\")\n",
    "    f.write(f\"# geometry\\n\")\n",
    "    f.write(f\"energy [eV]: {energy:.2f}\\n\")\n",
    "    f.write(f\"incidence [deg]: {alpha_i}\\n\")\n",
    "    f.write(f\"footprint [mm]: {footprint:.1f}\\n\")\n",
    "    f.write(f\"sdd [mm]: {Ddet:.2f}\\n\")\n",
    "    f.write(f\"qxy resolution HWHM at specular [A^-1]: {DSresHW}\\n\")\n",
    "    f.write(f\"phi_opening [deg]: {tth_roiHW_real}\\n\")\n",
    "    f.write(f\"beta_step [deg]: {tt_step}\\n\")\n",
    "    f.write(f\"# DS-XRR conversion optics setting\\n\")\n",
    "    f.write(f\"phi [deg]: {tth}\\n\")\n",
    "    f.write(f\"qxy(beta=0) [A^-1]: {qxy0[qxy0_select_idx]}\\n\")\n",
    "    f.write(f\"phi integration HW [deg]: {tth_roiHW_real}\\n\")\n",
    "    f.write(f\"corresponding qxy HW [A^-1]: {DSqxyHW_real}\\n\")\n",
    "    f.write(f\"R slit: {xrr_config_slit_v} mm (v) {xrr_config_slit_h} mm (h) at {xrr_config_sdd} mm distance, {xrr_config_energy} eV beam energy\\n\")\n",
    "    f.write(f\"scaling: {RFscaling}\\n\")\n",
    "    f.write(f\"# DS-XRR conversion sample setting\\n\")\n",
    "    f.write(f\"tension [N/m]: {tension}\\n\")\n",
    "    f.write(f\"temperature [K]: {temperature:.1f}\\n\")\n",
    "    f.write(f\"kappa [kbT]: {kappa:.1f}\\n\")\n",
    "    f.write(f\"CW short cutoff [A]: {amin}\\n\")\n",
    "    f.write(f\"CW and Kapa roughness [A]: {refl_roughness[0]} to {refl_roughness[-1]}\\n\")\n",
    "    f.write(\"# data\\nqz\\tSF\\tdSF\\tdQz\\tsigma_R\\texp(-qz2sigma2)\\n[A^-1]\\t[a.u.]\\t[a.u.]\\t[A^-1]\\t[A^-1]\\t[a.u.]\\n\")\n",
    "\n",
    "with open(sf_filename, 'a') as f:\n",
    "    np.savetxt(f, GIXOS[\"SF\"], delimiter='\\t', fmt='%.6e')\n",
    "#     np.savetxt(f, GIXOS[\"SF\"], delimiter='\\t', fmt='%.6e', comments='', header='', encoding='utf-8', newline='\\n', append=True)\n"
   ]
  },
  {
   "cell_type": "code",
   "execution_count": 12,
   "id": "00d70637",
   "metadata": {},
   "outputs": [
    {
     "data": {
      "image/png": "[encoded data removed]",
      "text/plain": [
       "<Figure size 432x360 with 1 Axes>"
      ]
     },
     "metadata": {
      "needs_background": "light"
     },
     "output_type": "display_data"
    }
   ],
   "source": [
    "# Final Two Graphs Below\n",
    "refl_recSlit = np.array(refl_recSlit)\n",
    "\n",
    "# Close any existing figure named 'refl'\n",
    "plt.close('refl')\n",
    "\n",
    "# Create new figure\n",
    "fig, ax = plt.subplots(num='refl', figsize=(6, 5))\n",
    "fig.canvas.manager.set_window_title('refl')\n",
    "\n",
    "# Plot error bars\n",
    "# Commented line corresponds to the MATLAB commented errorbar line\n",
    "# ax.errorbar(GIXOS['refl'][:,0], GIXOS['refl'][:,1]/RFscaling, yerr=GIXOS['refl'][:,2]/RFscaling,\n",
    "#             fmt='o', markersize=3,\n",
    "#             label=f\"δQ_xy= {geo['RqxyHW']:.1e} Å⁻¹\")\n",
    "\n",
    "ax.errorbar(\n",
    "    refl_recSlit[:, 0],\n",
    "    refl_recSlit[:, 1] / RFscaling,\n",
    "    yerr=refl_recSlit[:, 2] / RFscaling,\n",
    "    fmt='o',\n",
    "    markersize=5,\n",
    "    label=(\n",
    "        f\"slit: {xrr_config_slit_v:.2f} mm (v) x {xrr_config_slit_h:.2f} mm (h); \"\n",
    "        f\"{xrr_config_sdd:.1f} mm, {xrr_config_energy / 1000:.1f} keV\"\n",
    "    )\n",
    ")\n",
    "\n",
    "ax.set_xlim(0, 0.8)\n",
    "ax.set_xlabel(r'$Q_z \\; [\\AA^{-1}]$', fontsize=14)\n",
    "ax.set_ylabel('R', fontsize=14)\n",
    "\n",
    "ax.tick_params(axis='both', which='major', labelsize=14, direction='out')\n",
    "ax.set_xticks(np.arange(0, 0.81, 0.2))\n",
    "ax.set_yscale('log')\n",
    "ax.legend(loc='lower right', frameon=False)  # 'Southeast' → 'lower right' in matplotlib\n",
    "\n",
    "plt.tight_layout()\n",
    "\n",
    "# Save figure\n",
    "filename = f\"{path_out}{sample}_{scan[qxy0_select_idx]:05d}_R_PYTHON.jpg\"\n",
    "plt.savefig(filename, dpi=300)\n",
    "plt.show()\n"
   ]
  },
  {
   "cell_type": "code",
   "execution_count": 13,
   "id": "cea4bf46",
   "metadata": {},
   "outputs": [
    {
     "name": "stderr",
     "output_type": "stream",
     "text": [
      "/Users/xiaogangyang/miniforge3/envs/general-data/lib/python3.10/site-packages/matplotlib/cbook/__init__.py:1335: ComplexWarning: Casting complex values to real discards the imaginary part\n",
      "  return np.asarray(x, float)\n",
      "/Users/xiaogangyang/miniforge3/envs/general-data/lib/python3.10/site-packages/numpy/ma/core.py:3375: ComplexWarning: Casting complex values to real discards the imaginary part\n",
      "  _data[indx] = dval\n"
     ]
    },
    {
     "data": {
      "image/png": "[encoded data removed]",
      "text/plain": [
       "<Figure size 432x360 with 1 Axes>"
      ]
     },
     "metadata": {
      "needs_background": "light"
     },
     "output_type": "display_data"
    }
   ],
   "source": [
    "# Ensure relevant arrays are numpy arrays\n",
    "refl_recSlit = np.array(refl_recSlit)\n",
    "fresnel = np.array(fresnel)\n",
    "xrr_data_data = np.array(xrr_data)\n",
    "\n",
    "# Close existing figure named 'RRF'\n",
    "plt.close('RRF')\n",
    "\n",
    "fig, ax = plt.subplots(num='RRF', figsize=(6, 5))\n",
    "fig.canvas.manager.set_window_title('RRF')\n",
    "\n",
    "# Plot first errorbar: refl_recSlit normalized by fresnel and RFscaling\n",
    "ax.errorbar(\n",
    "    refl_recSlit[:, 0],\n",
    "    refl_recSlit[:, 1] / fresnel[:, 1] / RFscaling,\n",
    "    yerr=refl_recSlit[:, 2] / fresnel[:, 1] / RFscaling,\n",
    "    fmt='ro',\n",
    "    markersize=5,\n",
    "    linewidth=1.5,\n",
    "    label=(\n",
    "        f\"slit: {xrr_config_slit_v:.2f} mm (v) x {xrr_config_slit_h:.2f} mm (h); \"\n",
    "        f\"{xrr_config_sdd:.1f} mm, {xrr_config_energy / 1000:.1f} keV\"\n",
    "    )\n",
    ")\n",
    "\n",
    "# Plot second errorbar: xrr_data normalized by dataRF\n",
    "ax.errorbar(\n",
    "    xrr_data_data[:, 0],\n",
    "    xrr_data_data[:, 1] / xrr_config_dataRF,\n",
    "    yerr=xrr_data_data[:, 2] / xrr_config_dataRF,\n",
    "    fmt='ko',\n",
    "    markersize=5,\n",
    "    linewidth=1.5,\n",
    "    capsize=4,\n",
    "    label='XRR 0.66mm slit'\n",
    ")\n",
    "\n",
    "ax.set_xlim(0, 0.8)\n",
    "ax.set_ylim(1e-5, 10)\n",
    "ax.set_xlabel(r'$Q_z \\; [\\AA^{-1}]$', fontsize=14)\n",
    "ax.set_ylabel('R/R_F [a.u.]', fontsize=14)\n",
    "\n",
    "ax.tick_params(axis='both', which='major', labelsize=14, direction='out')\n",
    "ax.set_xticks(np.arange(0, 0.81, 0.2))\n",
    "ax.set_yscale('log')\n",
    "ax.legend(loc='lower left', frameon=False)  # MATLAB 'SouthWest' ≈ matplotlib 'lower left'\n",
    "\n",
    "plt.tight_layout()\n",
    "\n",
    "filename = f\"{path_out}{sample}_{scan[qxy0_select_idx]:05d}_RRF_PYTHON.jpg\"\n",
    "plt.savefig(filename, dpi=300)\n",
    "plt.show()\n"
   ]
  }
 ],
 "metadata": {
  "kernelspec": {
   "display_name": "pseudo_xrr_env",
   "language": "python",
   "name": "python3"
  },
  "language_info": {
   "codemirror_mode": {
    "name": "ipython",
    "version": 3
   },
   "file_extension": ".py",
   "mimetype": "text/x-python",
   "name": "python",
   "nbconvert_exporter": "python",
   "pygments_lexer": "ipython3",
   "version": "3.10.18"
  }
 },
 "nbformat": 4,
 "nbformat_minor": 5
}
